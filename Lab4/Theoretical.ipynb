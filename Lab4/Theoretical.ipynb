{
 "cells": [
  {
   "cell_type": "markdown",
   "metadata": {},
   "source": [
    "# Naive Bayes Classifier\n",
    "## 1. Theoretical\n",
    "The Naive Bayes classifier is a classifier which assumes that all features are conditionally independent - and is therefore called \"naive\".\n",
    "\n",
    "First, we calculate the product of conditional probabilities:\n",
    "\n",
    "$p(x_i \\mid C_k) = p(C_k)\\prod_{i=1}^{n} p(x_i\\mid C_k)$\n",
    "\n",
    "The classifier, based on the same logic:\n",
    "\n",
    "$\\hat{y} = \\underset{k \\in \\left \\{ 1, ..., K \\right \\} }{argmax}   p(C_k) \\prod_{i=1}^{n} p(x_i\\mid C_k)$"
   ]
  },
  {
   "cell_type": "markdown",
   "metadata": {},
   "source": [
    "## 2 Comment\n",
    "\n",
    "The classifier acheives an accuracy score of $94.7 \\%$. As expected, there is a significant probability of misclassification in the area with overlapping classes (0,3). However, more interesting is the misclassification of blue points in the area around (4,4). We believe that the classifier weights the value of x2(y-axis) over a certain value (~3.5) to be of high significance $\\rightarrow$ misclassifying blue points as red above this threshold."
   ]
  },
  {
   "cell_type": "markdown",
   "metadata": {},
   "source": [
    "## 3 Practical Assignment\n",
    "Text | Real Language | Recognized Language | Score | Classification Margin\n",
    "--- | :---: | :---: | :---: | :---:\n",
    "*El cine esta abierto.* | es | es | 0.9997 | 0.9995\n",
    "*Tu vais à escola hoje.* | pt | fr | 0.7931 | 0.5861\n",
    "*Tu vais à escola hoje pois já estás melhor.* | pt | pt | 0.9999 | 0.9999\n",
    "*English is easy to learn.* | en | en | 0.9999 | 0.9999\n",
    "*Tu vas au cinéma demain matin.* | fr | fr | 0.9999 | 0.9999\n",
    "*É fácil de entender.* | pt | es | 0.5484 | 0.0967"
   ]
  },
  {
   "cell_type": "markdown",
   "metadata": {},
   "source": [
    "#### Sentence 1\n",
    "Sentence 1 is correctly predicted as Spanish. The closest contender is Portuguese, but the classifier still gives an answer with very high probability of being correct.\n",
    "#### Sentence 2\n",
    "Sentence 2 is incorrectly predicted as French. The probability of French is: 0.7930 and the probability for the correct answer, Portuguese: 0.2069. The decomposition of the sentence into trigrams result in, surprisingly, a better fit to the French language. The first three words are infact both French and Portuguese. \n",
    "#### Sentence 3\n",
    "Sentence 3 is correctly predicted as Portuguese. The decomposition to trigrams of this sentence gave an overwhelming probability of it originating from the portuguese language.The second closest language was French, with a probability in the order of $10^{-14}$. However, sentence 2 and 3 have the same beginning, and sentence 2 was misclassified. The last part of sentence 3 seems to push the classifier towards Portuguese.\n",
    "#### Sentence 4\n",
    "Sentence 4 is correctly predicted as English. Similar to the previous sentence, English is completly dominant with the second highest probability being in the order of $10^{-11}$.\n",
    "#### Sentence 5\n",
    "Sentence 5 is correctly predicted as French. Again, the classifier establishes an extremly high likelyhood of the sentence being French.\n",
    "#### Sentence 6\n",
    "Sentence 6 is incorrectly predicted as Spanish. The probabilities for Spanish and Portuguese are both significant, and the classification margin was the lowest of all test data. Spanish and Portuguese are very similar languages, at least when comparing sentence composition and letter frequency. Fun fact: Google Translate is able to translate the sentence to English perfectly from both Spanish and Portuguese."
   ]
  }
 ],
 "metadata": {
  "kernelspec": {
   "display_name": "Python 3",
   "language": "python",
   "name": "python3"
  },
  "language_info": {
   "codemirror_mode": {
    "name": "ipython",
    "version": 3
   },
   "file_extension": ".py",
   "mimetype": "text/x-python",
   "name": "python",
   "nbconvert_exporter": "python",
   "pygments_lexer": "ipython3",
   "version": "3.6.9"
  }
 },
 "nbformat": 4,
 "nbformat_minor": 2
}
