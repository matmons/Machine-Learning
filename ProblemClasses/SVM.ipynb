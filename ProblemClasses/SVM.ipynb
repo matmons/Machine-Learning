{
 "cells": [
  {
   "cell_type": "code",
   "execution_count": 8,
   "metadata": {},
   "outputs": [],
   "source": [
    "import matplotlib.pyplot as plt\n",
    "import numpy as np"
   ]
  },
  {
   "cell_type": "code",
   "execution_count": 58,
   "metadata": {},
   "outputs": [
    {
     "data": {
      "image/png": "[encoded data removed]",
      "text/plain": [
       "<Figure size 864x432 with 2 Axes>"
      ]
     },
     "metadata": {
      "needs_background": "light"
     },
     "output_type": "display_data"
    }
   ],
   "source": [
    "dataset = np.array([[-2, -2, 'A'],\n",
    "           [-2, -1, 'A'],\n",
    "           [1, 2, 'A'],\n",
    "           [2, 1, 'A'],\n",
    "           [-2, 2, 'B'],\n",
    "           [0, 2, 'B'],\n",
    "           [0, -1, 'B'],\n",
    "           [1, -2, 'B']])\n",
    "colors = ['b', 'r']\n",
    "plt.figure(figsize=(12,6))\n",
    "plt.subplot(121)\n",
    "plt.grid()\n",
    "plt.title('Input Space')\n",
    "plt.xlabel('x1')\n",
    "plt.ylabel('x2')\n",
    "for i in range(len(dataset)):\n",
    "    if dataset[i][2] == 'A':\n",
    "        c = colors[0]\n",
    "    else:\n",
    "        c = colors[1]   \n",
    "    plt.scatter(int(dataset[i][0]), int(dataset[i][1]), c=c)\n",
    "\n",
    "# transofrmation x1 = x1**2, x2 = x1*x2\n",
    "transformed_dataset = []\n",
    "for i in range(len(dataset)):\n",
    "    temp = [int(dataset[i][0])**2]\n",
    "    temp.append(int(dataset[i][0])*int(dataset[i][1]))\n",
    "    temp.append(dataset[i][2])\n",
    "    transformed_dataset.append(temp)\n",
    "plt.subplot(122)   \n",
    "plt.grid()\n",
    "plt.title('Feature Space')\n",
    "plt.xlabel('x1')\n",
    "plt.ylabel('x2')\n",
    "for i in range(len(dataset)):\n",
    "    if transformed_dataset[i][2] == 'A':\n",
    "        c = colors[0]\n",
    "    else:\n",
    "        c = colors[1]\n",
    "    plt.scatter(transformed_dataset[i][0], transformed_dataset[i][1], c=c)"
   ]
  },
  {
   "cell_type": "code",
   "execution_count": 1,
   "metadata": {},
   "outputs": [],
   "source": [
    "#https://www.datacamp.com/community/tutorials/svm-classification-scikit-learn-python\n",
    "from sklearn import svm"
   ]
  },
  {
   "cell_type": "code",
   "execution_count": 2,
   "metadata": {},
   "outputs": [],
   "source": [
    "clf = svm.SVC(kernel='polynomial')"
   ]
  },
  {
   "cell_type": "code",
   "execution_count": 4,
   "metadata": {},
   "outputs": [
    {
     "name": "stdout",
     "output_type": "stream",
     "text": [
      "Object `svm.SVM` not found.\n"
     ]
    }
   ],
   "source": [
    "svm.SVM?"
   ]
  },
  {
   "cell_type": "code",
   "execution_count": null,
   "metadata": {},
   "outputs": [],
   "source": []
  }
 ],
 "metadata": {
  "kernelspec": {
   "display_name": "Python 3",
   "language": "python",
   "name": "python3"
  },
  "language_info": {
   "codemirror_mode": {
    "name": "ipython",
    "version": 3
   },
   "file_extension": ".py",
   "mimetype": "text/x-python",
   "name": "python",
   "nbconvert_exporter": "python",
   "pygments_lexer": "ipython3",
   "version": "3.6.9"
  }
 },
 "nbformat": 4,
 "nbformat_minor": 2
}
