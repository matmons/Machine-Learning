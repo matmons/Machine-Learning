{
 "cells": [
  {
   "cell_type": "code",
   "execution_count": 2,
   "metadata": {},
   "outputs": [],
   "source": [
    "import numpy as np"
   ]
  },
  {
   "cell_type": "code",
   "execution_count": 3,
   "metadata": {},
   "outputs": [],
   "source": [
    "# theta(xi,w) = (freq+lambda)/(sum(freq)+ lambda*D)\n",
    "keys = ['HOJ', 'OJE', 'JEb', 'EbC', 'bCH', 'CHO', 'HOV', 'OVE']\n",
    "\n",
    "freq = {}\n",
    "freq['HOJ'] = [7, 1, 2]\n",
    "freq['OJE'] = [6, 1, 2]\n",
    "freq['JEb'] = [1, 4, 1]\n",
    "freq['EbC'] = [6, 4, 5]\n",
    "freq['bCH'] = [0, 0, 0]\n",
    "freq['CHO'] = [9, 3, 1]\n",
    "freq['HOV'] = [9, 2, 3]\n",
    "freq['OVE'] = [5, 2, 3]\n",
    "\n",
    "l = 1\n",
    "D = 27**3"
   ]
  },
  {
   "cell_type": "code",
   "execution_count": 4,
   "metadata": {},
   "outputs": [],
   "source": [
    "theta = np.ones((len(keys), 3))\n",
    "sumlang = np.zeros(3)\n",
    "for i in range(len(keys)):\n",
    "    for j in range(3):\n",
    "        sumlang[j] += freq[keys[i]][j]\n",
    "for i in range(len(keys)):\n",
    "    for j in range(3):\n",
    "        theta[i,j] = (freq[keys[i]][j]+l)/(sumlang[j]+l*D)\n",
    "\n"
   ]
  },
  {
   "cell_type": "code",
   "execution_count": 5,
   "metadata": {},
   "outputs": [
    {
     "name": "stdout",
     "output_type": "stream",
     "text": [
      "Portugues:  2.0518947617210332e-29\n",
      "French:  1.5869845235034076e-31\n",
      "English:  1.5235051425632709e-31\n"
     ]
    }
   ],
   "source": [
    "theta_pt = np.prod(theta[:,0])\n",
    "theta_fr = np.prod(theta[:,1])\n",
    "theta_en = np.prod(theta[:,2])\n",
    "\n",
    "print('Portugues: ', theta_pt)\n",
    "print('French: ', theta_fr)\n",
    "print('English: ', theta_en)"
   ]
  },
  {
   "cell_type": "code",
   "execution_count": null,
   "metadata": {},
   "outputs": [],
   "source": []
  },
  {
   "cell_type": "code",
   "execution_count": null,
   "metadata": {},
   "outputs": [],
   "source": []
  }
 ],
 "metadata": {
  "kernelspec": {
   "display_name": "Python 3",
   "language": "python",
   "name": "python3"
  },
  "language_info": {
   "codemirror_mode": {
    "name": "ipython",
    "version": 3
   },
   "file_extension": ".py",
   "mimetype": "text/x-python",
   "name": "python",
   "nbconvert_exporter": "python",
   "pygments_lexer": "ipython3",
   "version": "3.6.9"
  }
 },
 "nbformat": 4,
 "nbformat_minor": 2
}
