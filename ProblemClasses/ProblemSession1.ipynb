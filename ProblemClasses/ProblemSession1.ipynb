{
 "cells": [
  {
   "cell_type": "markdown",
   "metadata": {},
   "source": [
    "#1. In the period from 24 to 36 months of age, which of the following parametric models is most appropriate to describe the evolution of the baby’s weight (y) with age (x)? \n",
    "\t\n",
    "    a. y = a\n",
    "    \n",
    "\tb. y = ax \n",
    "    \n",
    "    c. y = ax + b (X)\n",
    "    \n",
    "    d. y = ax^2 + bx + c \n",
    "    \n",
    "#2.  For a certain baby, the following weight measurements were obtained: Months [24 13 30] Weight [14 36 16] \n",
    "\n",
    "Write, for this dataset, the expression of the total squared error of the model as a function of the parameters.\n"
   ]
  },
  {
   "cell_type": "code",
   "execution_count": 2,
   "metadata": {
    "collapsed": true
   },
   "outputs": [],
   "source": [
    "import numpy as np\n",
    "from sklearn.linear_model import LinearRegression\n",
    "import matplotlib.pyplot as plt"
   ]
  },
  {
   "cell_type": "code",
   "execution_count": 39,
   "metadata": {},
   "outputs": [
    {
     "name": "stdout",
     "output_type": "stream",
     "text": [
      "[[24]\n",
      " [30]\n",
      " [36]]\n",
      "[13 14 16]\n"
     ]
    }
   ],
   "source": [
    "months = np.array([24, 30, 36]).reshape((-1,1))\n",
    "weight = np.array([13, 14, 16])\n",
    "months_test = np.array([22, 28, 34]).reshape((-1,1))\n",
    "\n",
    "avg_months = np.average(months)\n",
    "avg_weight = np.average(weight)\n",
    "avg_months_sq = np.average(np.power(months,2))\n",
    "tot_mw=0\n",
    "for i in range(3):\n",
    "    tot_mw += months[i]*weight[i]\n",
    "    \n",
    "avg_mw = tot_mw/3\n",
    "print(months)\n",
    "print(weight)"
   ]
  },
  {
   "cell_type": "code",
   "execution_count": 40,
   "metadata": {
    "collapsed": true
   },
   "outputs": [],
   "source": [
    "model = LinearRegression().fit(months, weight)\n",
    "weight_pred = model.predict(months_test)"
   ]
  },
  {
   "cell_type": "code",
   "execution_count": 42,
   "metadata": {},
   "outputs": [
    {
     "name": "stdout",
     "output_type": "stream",
     "text": [
      "coefficient of determination: 0.964285714286\n",
      "intercept:  6.83333333333\n",
      "slope:  [ 0.25]\n"
     ]
    }
   ],
   "source": [
    "r_sq = model.score(months, weight)\n",
    "print('coefficient of determination:', r_sq)\n",
    "print('intercept: ', model.intercept_)\n",
    "print('slope: ', model.coef_)"
   ]
  },
  {
   "cell_type": "code",
   "execution_count": 43,
   "metadata": {},
   "outputs": [
    {
     "data": {
      "image/png": "[encoded data removed]",
      "text/plain": [
       "<matplotlib.figure.Figure at 0x115704240>"
      ]
     },
     "metadata": {},
     "output_type": "display_data"
    }
   ],
   "source": [
    "plt.scatter(months, weight)\n",
    "plt.plot(months_test, weight_pred)\n",
    "plt.show()"
   ]
  },
  {
   "cell_type": "code",
   "execution_count": 4,
   "metadata": {},
   "outputs": [
    {
     "name": "stdout",
     "output_type": "stream",
     "text": [
      "beta values:  [[ 6.83333333]\n",
      " [ 0.25      ]]\n",
      "Sum of Squared Errors:  0.166666666667\n"
     ]
    }
   ],
   "source": [
    "x = np.matrix([[1,1,1],[24, 30, 36]]).transpose()\n",
    "x_t = np.matrix([[1,1,1],[24, 30, 36]])\n",
    "x_t_x = np.dot(x_t,x)\n",
    "y = np.matrix([13, 14, 16]).transpose()\n",
    "x_t_x_inverse = np.linalg.inv(x_t_x)\n",
    "x_t_y = np.dot(x_t,y)\n",
    "beta = np.dot(x_t_x_inverse, x_t_y)\n",
    "print('beta values: ',beta)\n",
    "SSE = np.power(y - np.dot(x,beta),2)\n",
    "print('Sum of Squared Errors: ',np.sum(SSE))"
   ]
  },
  {
   "cell_type": "code",
   "execution_count": 9,
   "metadata": {},
   "outputs": [
    {
     "data": {
      "image/png": "[encoded data removed]",
      "text/plain": [
       "<matplotlib.figure.Figure at 0x10efa6860>"
      ]
     },
     "metadata": {},
     "output_type": "display_data"
    }
   ],
   "source": [
    "y_25 = beta[1]*25+beta[0]\n",
    "y_34 = beta[1]*34+beta[0]\n",
    "\n",
    "x = [24, 30, 36]\n",
    "y = [13, 14, 16]\n",
    "plt.scatter(x,y)\n",
    "plt.show()"
   ]
  },
  {
   "cell_type": "code",
   "execution_count": 3,
   "metadata": {},
   "outputs": [],
   "source": [
    "np.dot?"
   ]
  },
  {
   "cell_type": "code",
   "execution_count": null,
   "metadata": {
    "collapsed": true
   },
   "outputs": [],
   "source": []
  }
 ],
 "metadata": {
  "kernelspec": {
   "display_name": "Python 3",
   "language": "python",
   "name": "python3"
  },
  "language_info": {
   "codemirror_mode": {
    "name": "ipython",
    "version": 3
   },
   "file_extension": ".py",
   "mimetype": "text/x-python",
   "name": "python",
   "nbconvert_exporter": "python",
   "pygments_lexer": "ipython3",
   "version": "3.6.8"
  }
 },
 "nbformat": 4,
 "nbformat_minor": 2
}
